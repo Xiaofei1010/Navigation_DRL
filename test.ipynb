{
 "cells": [
  {
   "cell_type": "code",
   "execution_count": 3,
   "metadata": {},
   "outputs": [],
   "source": [
    "import numpy as np\n",
    "import random\n",
    "from collections import namedtuple, deque\n",
    "\n",
    "from model import QNetwork\n",
    "\n",
    "import torch\n",
    "import torch.nn.functional as F\n",
    "import torch.optim as optim\n",
    "\n"
   ]
  },
  {
   "cell_type": "code",
   "execution_count": 6,
   "metadata": {},
   "outputs": [],
   "source": [
    "state_size = 37\n",
    "action_size = 4\n",
    "seed = 2019\n",
    "device = torch.device(\"cuda:0\" if torch.cuda.is_available() else \"cpu\")\n"
   ]
  },
  {
   "cell_type": "code",
   "execution_count": 7,
   "metadata": {},
   "outputs": [],
   "source": [
    "qnetwork_local = QNetwork(state_size, action_size, seed).to(device)"
   ]
  },
  {
   "cell_type": "code",
   "execution_count": 24,
   "metadata": {},
   "outputs": [],
   "source": [
    "state = np.random.rand(37)\n",
    "state = torch.from_numpy(state).float().unsqueeze(0).to(device)"
   ]
  },
  {
   "cell_type": "code",
   "execution_count": 27,
   "metadata": {},
   "outputs": [
    {
     "data": {
      "text/plain": [
       "tensor([[-0.0466,  0.0843, -0.1528,  0.0071]])"
      ]
     },
     "execution_count": 27,
     "metadata": {},
     "output_type": "execute_result"
    }
   ],
   "source": [
    "qnetwork_local(state).detach()"
   ]
  },
  {
   "cell_type": "code",
   "execution_count": 60,
   "metadata": {},
   "outputs": [
    {
     "name": "stdout",
     "output_type": "stream",
     "text": [
      "tensor([[ 1],\n",
      "        [ 1]])\n"
     ]
    },
    {
     "data": {
      "text/plain": [
       "tensor(1.00000e-02 *\n",
       "       [[ 5.2405],\n",
       "        [ 5.9056]])"
      ]
     },
     "execution_count": 60,
     "metadata": {},
     "output_type": "execute_result"
    }
   ],
   "source": [
    "max_actions = qnetwork_local(states).detach().argmax(1).unsqueeze(1)\n",
    "            # Use the active network action to get the value of the stable\n",
    "            # target network\n",
    "print(max_actions)\n",
    "qnetwork_local(states).detach().gather(1, max_actions)"
   ]
  },
  {
   "cell_type": "code",
   "execution_count": 44,
   "metadata": {},
   "outputs": [
    {
     "data": {
      "text/plain": [
       "array([[-4.0747061e-02,  5.2404828e-02, -1.7542557e-01, -1.3165932e-02],\n",
       "       [-1.3664365e-05,  5.9055567e-02, -1.8577194e-01, -3.0385092e-02]],\n",
       "      dtype=float32)"
      ]
     },
     "execution_count": 44,
     "metadata": {},
     "output_type": "execute_result"
    }
   ],
   "source": [
    "qnetwork_local(states).cpu().data.numpy()"
   ]
  },
  {
   "cell_type": "code",
   "execution_count": 34,
   "metadata": {},
   "outputs": [
    {
     "data": {
      "text/plain": [
       "array([[0.54835202, 0.06886769, 0.19166265, 0.46215426, 0.70357274,\n",
       "        0.81692926, 0.42285133, 0.50676052, 0.16852591, 0.08592382,\n",
       "        0.60285862, 0.89150359, 0.2443756 , 0.00425751, 0.99253629,\n",
       "        0.68942814, 0.87607446, 0.10368092, 0.43029042, 0.63525748,\n",
       "        0.07952837, 0.01796384, 0.6966597 , 0.4337787 , 0.77641201,\n",
       "        0.56850687, 0.03152079, 0.29258916, 0.72537507, 0.42184184,\n",
       "        0.85955482, 0.844639  , 0.97498279, 0.1688478 , 0.24935625,\n",
       "        0.21302347, 0.03699196],\n",
       "       [0.33061609, 0.72212544, 0.66418043, 0.63188724, 0.5552257 ,\n",
       "        0.83109484, 0.33984852, 0.24455859, 0.10306016, 0.17431883,\n",
       "        0.46388446, 0.98652082, 0.78821968, 0.81941215, 0.33313354,\n",
       "        0.33581542, 0.76288832, 0.89190942, 0.06415978, 0.71622833,\n",
       "        0.99115155, 0.57676265, 0.13790552, 0.46679948, 0.09907834,\n",
       "        0.84005483, 0.31718454, 0.26970002, 0.44586103, 0.8197048 ,\n",
       "        0.06762271, 0.82603184, 0.17533892, 0.55129216, 0.47604825,\n",
       "        0.45358949, 0.87474705]])"
      ]
     },
     "execution_count": 34,
     "metadata": {},
     "output_type": "execute_result"
    }
   ],
   "source": [
    "states = np.random.rand(2,37)\n",
    "states"
   ]
  },
  {
   "cell_type": "code",
   "execution_count": 35,
   "metadata": {},
   "outputs": [],
   "source": [
    "states = torch.from_numpy(np.vstack(states)).float().to(device)"
   ]
  },
  {
   "cell_type": "code",
   "execution_count": 36,
   "metadata": {},
   "outputs": [
    {
     "data": {
      "text/plain": [
       "tensor([[ 0.5484,  0.0689,  0.1917,  0.4622,  0.7036,  0.8169,  0.4229,\n",
       "          0.5068,  0.1685,  0.0859,  0.6029,  0.8915,  0.2444,  0.0043,\n",
       "          0.9925,  0.6894,  0.8761,  0.1037,  0.4303,  0.6353,  0.0795,\n",
       "          0.0180,  0.6967,  0.4338,  0.7764,  0.5685,  0.0315,  0.2926,\n",
       "          0.7254,  0.4218,  0.8596,  0.8446,  0.9750,  0.1688,  0.2494,\n",
       "          0.2130,  0.0370],\n",
       "        [ 0.3306,  0.7221,  0.6642,  0.6319,  0.5552,  0.8311,  0.3398,\n",
       "          0.2446,  0.1031,  0.1743,  0.4639,  0.9865,  0.7882,  0.8194,\n",
       "          0.3331,  0.3358,  0.7629,  0.8919,  0.0642,  0.7162,  0.9912,\n",
       "          0.5768,  0.1379,  0.4668,  0.0991,  0.8401,  0.3172,  0.2697,\n",
       "          0.4459,  0.8197,  0.0676,  0.8260,  0.1753,  0.5513,  0.4760,\n",
       "          0.4536,  0.8747]])"
      ]
     },
     "execution_count": 36,
     "metadata": {},
     "output_type": "execute_result"
    }
   ],
   "source": [
    "states"
   ]
  },
  {
   "cell_type": "code",
   "execution_count": null,
   "metadata": {},
   "outputs": [],
   "source": []
  }
 ],
 "metadata": {
  "kernelspec": {
   "display_name": "drlnd",
   "language": "python",
   "name": "drlnd"
  },
  "language_info": {
   "codemirror_mode": {
    "name": "ipython",
    "version": 3
   },
   "file_extension": ".py",
   "mimetype": "text/x-python",
   "name": "python",
   "nbconvert_exporter": "python",
   "pygments_lexer": "ipython3",
   "version": "3.6.8"
  }
 },
 "nbformat": 4,
 "nbformat_minor": 2
}
